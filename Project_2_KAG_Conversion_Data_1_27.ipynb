{
  "nbformat": 4,
  "nbformat_minor": 0,
  "metadata": {
    "colab": {
      "name": "Project_2_KAG_Conversion_Data_1-27.ipynb",
      "provenance": [],
      "collapsed_sections": [],
      "mount_file_id": "1sEqTMyAj1imgtgWhd3Nr6N25L8OZOVrV",
      "authorship_tag": "ABX9TyOOFPtOkg2WCengcZ/cm1Wn",
      "include_colab_link": true
    },
    "kernelspec": {
      "name": "python3",
      "display_name": "Python 3"
    },
    "language_info": {
      "name": "python"
    }
  },
  "cells": [
    {
      "cell_type": "markdown",
      "metadata": {
        "id": "view-in-github",
        "colab_type": "text"
      },
      "source": [
        "<a href=\"https://colab.research.google.com/github/MBSingh2038/KAG-Conversion_NumPy-Project/blob/main/Project_2_KAG_Conversion_Data_1_27.ipynb\" target=\"_parent\"><img src=\"https://colab.research.google.com/assets/colab-badge.svg\" alt=\"Open In Colab\"/></a>"
      ]
    },
    {
      "cell_type": "code",
      "execution_count": 11,
      "metadata": {
        "id": "bzXoiu-sty1I"
      },
      "outputs": [],
      "source": [
        "#Loading a main data file from excel\n",
        "main_data_File = \"/content/KAG_Conversion_Data.csv\""
      ]
    },
    {
      "cell_type": "code",
      "source": [
        ""
      ],
      "metadata": {
        "id": "1cKp9BjEwywd"
      },
      "execution_count": 6,
      "outputs": []
    },
    {
      "cell_type": "code",
      "source": [
        "import numpy as np\n",
        "main_data = np.genfromtxt(main_data_File, delimiter = \",\", skip_header = 1)\n",
        "data_str = np.genfromtxt(main_data_File,delimiter = \",\",skip_header = 1,dtype=str)\n",
        "print(\"\\nData :\\n\",main_data)"
      ],
      "metadata": {
        "colab": {
          "base_uri": "https://localhost:8080/"
        },
        "id": "_u9pDVgvuahx",
        "outputId": "e795adf5-bd05-4f51-94b6-e3d57b461491"
      },
      "execution_count": 12,
      "outputs": [
        {
          "output_type": "stream",
          "name": "stdout",
          "text": [
            "\n",
            "Data :\n",
            " [[7.08746000e+05 9.16000000e+02 1.03916000e+05 ... 1.42999995e+00\n",
            "  2.00000000e+00 1.00000000e+00]\n",
            " [7.08749000e+05 9.16000000e+02 1.03917000e+05 ... 1.82000002e+00\n",
            "  2.00000000e+00 0.00000000e+00]\n",
            " [7.08771000e+05 9.16000000e+02 1.03920000e+05 ... 0.00000000e+00\n",
            "  1.00000000e+00 0.00000000e+00]\n",
            " ...\n",
            " [1.31441200e+06 1.17800000e+03 1.79979000e+05 ... 4.02899995e+01\n",
            "  2.00000000e+00 0.00000000e+00]\n",
            " [1.31441400e+06 1.17800000e+03 1.79981000e+05 ... 1.98710001e+02\n",
            "  8.00000000e+00 2.00000000e+00]\n",
            " [1.31441500e+06 1.17800000e+03 1.79982000e+05 ... 1.65609999e+02\n",
            "  5.00000000e+00 2.00000000e+00]]\n"
          ]
        }
      ]
    },
    {
      "cell_type": "code",
      "source": [
        "#Finding number of unique ID an campaigns\n",
        "xyz = main_data[:,1]\n",
        "unique_id = np.unique(xyz)\n",
        "print(unique_id)"
      ],
      "metadata": {
        "colab": {
          "base_uri": "https://localhost:8080/"
        },
        "id": "41QSCpcfw2ox",
        "outputId": "9e2690c5-e1e9-4a51-97df-df27ddd9bdb4"
      },
      "execution_count": 13,
      "outputs": [
        {
          "output_type": "stream",
          "name": "stdout",
          "text": [
            "[ 916.  936. 1178.]\n"
          ]
        }
      ]
    },
    {
      "cell_type": "code",
      "source": [
        "import numpy as np\n",
        "\n",
        "unique_id,count = np.unique(xyz, return_counts =True)\n",
        "print(\"The unique ID's are:- \",unique_id)\n",
        "print(\"The number of unique ID's are:- \",count)"
      ],
      "metadata": {
        "colab": {
          "base_uri": "https://localhost:8080/"
        },
        "id": "usq-fs0ZxttD",
        "outputId": "369ea676-d9a6-438b-d0b9-f19cc00df96a"
      },
      "execution_count": 14,
      "outputs": [
        {
          "output_type": "stream",
          "name": "stdout",
          "text": [
            "The unique ID's are:-  [ 916.  936. 1178.]\n",
            "The number of unique ID's are:-  [ 54 464 625]\n"
          ]
        }
      ]
    },
    {
      "cell_type": "code",
      "source": [
        "print(\"The number of times each unique ID rans:- \")\n",
        "for i in range(len(unique_id)):\n",
        "  \n",
        "  print('\\n{} ran {} times'.format(unique_id[i],count[i]))"
      ],
      "metadata": {
        "colab": {
          "base_uri": "https://localhost:8080/"
        },
        "id": "CY8CRnwUyRLq",
        "outputId": "06e0c9f8-c0b7-46e3-ff57-b0edc18f4a7a"
      },
      "execution_count": 16,
      "outputs": [
        {
          "output_type": "stream",
          "name": "stdout",
          "text": [
            "The number of times each unique ID rans:- \n",
            "\n",
            "916.0 ran 54 times\n",
            "\n",
            "936.0 ran 464 times\n",
            "\n",
            "1178.0 ran 625 times\n"
          ]
        }
      ]
    },
    {
      "cell_type": "code",
      "source": [
        "from numpy.ma.extras import unique\n",
        "age_group = data_str[:,3]\n",
        "print(\"The age group are:- \\n\",age_group)\n",
        "\n",
        "#Counting the number of age groups\n",
        "count_age_group = np.unique(age_group)\n",
        "\n",
        "#Displaying the age groups\n",
        "print(\"\\nThe unique age groups are:- \\n\",count_age_group)\n",
        "\n",
        "#Displaying the number of unique age groups\n",
        "print(\"\\nThere are\", len(count_age_group), \"age groups in the campaign\",)"
      ],
      "metadata": {
        "colab": {
          "base_uri": "https://localhost:8080/"
        },
        "id": "Z8DgZXj3y1Ti",
        "outputId": "de0ed312-57fb-4384-b33c-32921c169688"
      },
      "execution_count": 23,
      "outputs": [
        {
          "output_type": "stream",
          "name": "stdout",
          "text": [
            "The age group are:- \n",
            " ['30-34' '30-34' '30-34' ... '45-49' '45-49' '45-49']\n",
            "\n",
            "The unique age groups are:- \n",
            " ['30-34' '35-39' '40-44' '45-49']\n",
            "\n",
            "There are 4 age groups in the campaign\n"
          ]
        }
      ]
    },
    {
      "cell_type": "code",
      "source": [
        "#Finding average, minimum and maximum amount spent on the ads\n",
        "time_spent =main_data[:, 8]\n",
        "print(time_spent)\n",
        "\n",
        "#Finding and displaying average time\n",
        "average_time_spend = time_spent.mean()\n",
        "print(\"Average Time Spend by the users = \", round(average_time_spend,2))\n",
        "\n",
        "#Finding and displaying minimum time\n",
        "min_time_spend = time_spent.min()\n",
        "print(\"Minimum Time Spend by the users = \", round(min_time_spend,2))\n",
        "\n",
        "#Finding and displaying maximum time\n",
        "max_time_spend = time_spent.max()\n",
        "print(\"Maximum Time Spend by the users = \", round(max_time_spend,2))"
      ],
      "metadata": {
        "colab": {
          "base_uri": "https://localhost:8080/"
        },
        "id": "qZGZZU6sz0t_",
        "outputId": "78a11bc5-e06d-4dcd-e10f-697b09243837"
      },
      "execution_count": 24,
      "outputs": [
        {
          "output_type": "stream",
          "name": "stdout",
          "text": [
            "[  1.42999995   1.82000002   0.         ...  40.28999949 198.7100005\n",
            " 165.6099987 ]\n",
            "Average Time Spend by the users =  51.36\n",
            "Minimum Time Spend by the users =  0.0\n",
            "Maximum Time Spend by the users =  639.95\n"
          ]
        }
      ]
    },
    {
      "cell_type": "code",
      "source": [
        "#Finding the ID of the Ad having maximum number of clicks\n",
        "number_of_clicks= main_data[:, 7]\n",
        "id = main_data[:, 0]\n",
        "print(number_of_clicks)\n",
        "print(\"ID = \",id)\n",
        "\n",
        "#finding and displaying the maximum number of clicks\n",
        "max_num_of_clicks = number_of_clicks.max()\n",
        "print(\"Maximum number of clicks = \", max_num_of_clicks, \"times\")\n",
        "\n",
        "print(\"The ID having the number of clicks is : \",id[number_of_clicks == max_num_of_clicks])"
      ],
      "metadata": {
        "colab": {
          "base_uri": "https://localhost:8080/"
        },
        "id": "KTBweTix3fhR",
        "outputId": "16852b70-93c2-4afb-e232-5c267914c223"
      },
      "execution_count": 26,
      "outputs": [
        {
          "output_type": "stream",
          "name": "stdout",
          "text": [
            "[  1.   2.   0. ...  28. 135. 114.]\n",
            "ID =  [ 708746.  708749.  708771. ... 1314412. 1314414. 1314415.]\n",
            "Maximum number of clicks =  421.0 times\n",
            "The ID having the number of clicks is :  [1121814.]\n"
          ]
        }
      ]
    },
    {
      "cell_type": "code",
      "source": [
        "#Finding the number of people who bought the product after seeing the ad with most clicks\n",
        "approved_conversion = main_data[:, 10]\n",
        "print(approved_conversion)\n",
        "max_num_of_approved_conversion = approved_conversion.max()\n",
        "print(\"Maximum Number of approved conversion = \", max_num_of_approved_conversion)\n",
        "\n",
        "number_of_persons = approved_conversion[number_of_clicks == max_num_of_clicks]\n",
        "print(\"The number of persons that bought the product after seeing the add with most clicks = \", number_of_persons)\n",
        "if number_of_persons>max_num_of_approved_conversion:\n",
        "  print(\"Yes the maximum number of purchases presents in the dataset\")\n",
        "else:\n",
        "  print(\"No the maximum number of purchases presents in the dataset\")"
      ],
      "metadata": {
        "colab": {
          "base_uri": "https://localhost:8080/"
        },
        "id": "CCYweFG8XWT4",
        "outputId": "f4d82d5e-f568-4bbc-b4d4-b5a3c5346cc4"
      },
      "execution_count": 31,
      "outputs": [
        {
          "output_type": "stream",
          "name": "stdout",
          "text": [
            "[1. 0. 0. ... 0. 2. 2.]\n",
            "Maximum Number of approved conversion =  21.0\n",
            "The number of persons that bought the product after seeing the add with most clicks =  [13.]\n",
            "No the maximum number of purchases presents in the dataset\n"
          ]
        }
      ]
    },
    {
      "cell_type": "code",
      "source": [
        "#Finding the details of the product having maximum number of purchases\n",
        "print(\"The details of product having maximu number of purchases are:- \")\n",
        "main_data[approved_conversion==21]\n"
      ],
      "metadata": {
        "colab": {
          "base_uri": "https://localhost:8080/"
        },
        "id": "N4ReQSAIXxNf",
        "outputId": "91d1ed5d-3c28-4cf9-a0ad-45682fe16d05"
      },
      "execution_count": 33,
      "outputs": [
        {
          "output_type": "stream",
          "name": "stdout",
          "text": [
            "The details of product having maximu number of purchases are:- \n"
          ]
        },
        {
          "output_type": "execute_result",
          "data": {
            "text/plain": [
              "array([[1.12110400e+06, 1.17800000e+03, 1.44533000e+05,            nan,\n",
              "                   nan, 1.60000000e+01, 2.08066600e+06, 2.02000000e+02,\n",
              "        3.60150001e+02, 4.00000000e+01, 2.10000000e+01]])"
            ]
          },
          "metadata": {},
          "execution_count": 33
        }
      ]
    }
  ]
}